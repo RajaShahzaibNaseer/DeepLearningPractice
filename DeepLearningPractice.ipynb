{
  "nbformat": 4,
  "nbformat_minor": 0,
  "metadata": {
    "colab": {
      "provenance": [],
      "gpuType": "T4",
      "authorship_tag": "ABX9TyNg9IGyj6zLC6MMlXjM1vAD",
      "include_colab_link": true
    },
    "kernelspec": {
      "name": "python3",
      "display_name": "Python 3"
    },
    "language_info": {
      "name": "python"
    },
    "accelerator": "GPU"
  },
  "cells": [
    {
      "cell_type": "markdown",
      "metadata": {
        "id": "view-in-github",
        "colab_type": "text"
      },
      "source": [
        "<a href=\"https://colab.research.google.com/github/RajaShahzaibNaseer/DeepLearningPractice/blob/main/DeepLearningPractice.ipynb\" target=\"_parent\"><img src=\"https://colab.research.google.com/assets/colab-badge.svg\" alt=\"Open In Colab\"/></a>"
      ]
    },
    {
      "cell_type": "code",
      "execution_count": null,
      "metadata": {
        "id": "mMEdWtWm6WH6",
        "colab": {
          "base_uri": "https://localhost:8080/"
        },
        "outputId": "2e77c545-b64e-40d9-879d-00c513ee64e8"
      },
      "outputs": [
        {
          "output_type": "stream",
          "name": "stdout",
          "text": [
            "hello WOrld\n"
          ]
        }
      ],
      "source": [
        "print(\"hello WOrld\")"
      ]
    }
  ]
}