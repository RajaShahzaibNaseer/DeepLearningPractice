{
  "nbformat": 4,
  "nbformat_minor": 0,
  "metadata": {
    "colab": {
      "provenance": [],
      "collapsed_sections": [
        "szjlRMADEu1o",
        "H3-bbZeaUzCV",
        "1O0S6bEkVgSd"
      ],
      "authorship_tag": "ABX9TyOJxuvk6QGL/4nts/b5k+hD",
      "include_colab_link": true
    },
    "kernelspec": {
      "name": "python3",
      "display_name": "Python 3"
    },
    "language_info": {
      "name": "python"
    }
  },
  "cells": [
    {
      "cell_type": "markdown",
      "metadata": {
        "id": "view-in-github",
        "colab_type": "text"
      },
      "source": [
        "<a href=\"https://colab.research.google.com/github/RajaShahzaibNaseer/DeepLearningPractice/blob/main/DeepLearningPractice.ipynb\" target=\"_parent\"><img src=\"https://colab.research.google.com/assets/colab-badge.svg\" alt=\"Open In Colab\"/></a>"
      ]
    },
    {
      "cell_type": "markdown",
      "source": [
        "# **These are the libraries which will be used to create the deep learning network.**"
      ],
      "metadata": {
        "id": "H3KI8wSaD6iD"
      }
    },
    {
      "cell_type": "code",
      "execution_count": 32,
      "metadata": {
        "id": "mMEdWtWm6WH6",
        "colab": {
          "base_uri": "https://localhost:8080/"
        },
        "outputId": "8399d23f-f853-4d47-a5b5-0c86ecb763b7"
      },
      "outputs": [
        {
          "output_type": "stream",
          "name": "stdout",
          "text": [
            "2.3.1+cu121\n"
          ]
        }
      ],
      "source": [
        "import torch\n",
        "import pandas as pd\n",
        "import numpy as np\n",
        "import matplotlib.pyplot as plt\n",
        "print(torch.__version__)"
      ]
    },
    {
      "cell_type": "markdown",
      "source": [
        "#**Introduction to Tensors**"
      ],
      "metadata": {
        "id": "Q6nCvnDTEKac"
      }
    },
    {
      "cell_type": "markdown",
      "source": [
        "##Creating Tensors"
      ],
      "metadata": {
        "id": "CSQDVGUGEjlz"
      }
    },
    {
      "cell_type": "markdown",
      "source": [
        "PyTorch tensors are created using torch.tensor() = https://pytorch.org/docs/stable/tensors.html\n",
        " following are a few types of tensors"
      ],
      "metadata": {
        "id": "MN2WOD3oFIdV"
      }
    },
    {
      "cell_type": "markdown",
      "source": [
        "###1. Scalar"
      ],
      "metadata": {
        "id": "szjlRMADEu1o"
      }
    },
    {
      "cell_type": "code",
      "source": [
        "scalar = torch.tensor(7)\n",
        "scalar #this returns the scalar entity with a tensor datatype and its value indicating that it is a tensor"
      ],
      "metadata": {
        "colab": {
          "base_uri": "https://localhost:8080/"
        },
        "id": "LEuBX_n8EPWj",
        "outputId": "550e0cea-233c-433a-bdfc-329fbe22040f"
      },
      "execution_count": 33,
      "outputs": [
        {
          "output_type": "execute_result",
          "data": {
            "text/plain": [
              "tensor(7)"
            ]
          },
          "metadata": {},
          "execution_count": 33
        }
      ]
    },
    {
      "cell_type": "code",
      "source": [
        "scalar.ndim"
      ],
      "metadata": {
        "colab": {
          "base_uri": "https://localhost:8080/"
        },
        "id": "VJrrWubVGRHi",
        "outputId": "8a6d80a9-059c-4b8f-9831-a12d61971880"
      },
      "execution_count": 34,
      "outputs": [
        {
          "output_type": "execute_result",
          "data": {
            "text/plain": [
              "0"
            ]
          },
          "metadata": {},
          "execution_count": 34
        }
      ]
    },
    {
      "cell_type": "code",
      "source": [
        "# Get the tensor back as a python datatype\n",
        "scalar.item()"
      ],
      "metadata": {
        "colab": {
          "base_uri": "https://localhost:8080/"
        },
        "id": "8L-dCcjlGYT7",
        "outputId": "4a2c513e-1381-42f5-c225-f5e6c34cd853"
      },
      "execution_count": 35,
      "outputs": [
        {
          "output_type": "execute_result",
          "data": {
            "text/plain": [
              "7"
            ]
          },
          "metadata": {},
          "execution_count": 35
        }
      ]
    },
    {
      "cell_type": "markdown",
      "source": [
        "###2. Vector"
      ],
      "metadata": {
        "id": "H3-bbZeaUzCV"
      }
    },
    {
      "cell_type": "code",
      "source": [
        "# Get tensor as a vector\n",
        "vector = torch.tensor([7,7])\n",
        "vector"
      ],
      "metadata": {
        "colab": {
          "base_uri": "https://localhost:8080/"
        },
        "id": "GnLkiikZGYRx",
        "outputId": "6011d190-8419-48a0-db7d-9d90f058d285"
      },
      "execution_count": 36,
      "outputs": [
        {
          "output_type": "execute_result",
          "data": {
            "text/plain": [
              "tensor([7, 7])"
            ]
          },
          "metadata": {},
          "execution_count": 36
        }
      ]
    },
    {
      "cell_type": "code",
      "source": [
        "vector.shape"
      ],
      "metadata": {
        "colab": {
          "base_uri": "https://localhost:8080/"
        },
        "id": "L24pVzsBUfPx",
        "outputId": "5e222c2e-a17b-4570-96f1-5b3e9db84183"
      },
      "execution_count": 37,
      "outputs": [
        {
          "output_type": "execute_result",
          "data": {
            "text/plain": [
              "torch.Size([2])"
            ]
          },
          "metadata": {},
          "execution_count": 37
        }
      ]
    },
    {
      "cell_type": "code",
      "source": [
        "vector.ndim"
      ],
      "metadata": {
        "colab": {
          "base_uri": "https://localhost:8080/"
        },
        "id": "Q-q8EU0LUfNF",
        "outputId": "474546bc-978f-402a-bc1c-c7be3880945b"
      },
      "execution_count": 38,
      "outputs": [
        {
          "output_type": "execute_result",
          "data": {
            "text/plain": [
              "1"
            ]
          },
          "metadata": {},
          "execution_count": 38
        }
      ]
    },
    {
      "cell_type": "markdown",
      "source": [
        "###3. Matrix"
      ],
      "metadata": {
        "id": "1O0S6bEkVgSd"
      }
    },
    {
      "cell_type": "code",
      "source": [
        "#make a Matrix Tensor\n",
        "MATRIX = torch.tensor([[7,8],[9,10]])\n",
        "MATRIX"
      ],
      "metadata": {
        "colab": {
          "base_uri": "https://localhost:8080/"
        },
        "id": "lKnKtkr6E8Yb",
        "outputId": "b899f2fe-0f70-4743-f98f-be376d96295e"
      },
      "execution_count": 39,
      "outputs": [
        {
          "output_type": "execute_result",
          "data": {
            "text/plain": [
              "tensor([[ 7,  8],\n",
              "        [ 9, 10]])"
            ]
          },
          "metadata": {},
          "execution_count": 39
        }
      ]
    },
    {
      "cell_type": "code",
      "source": [
        "MATRIX.ndim"
      ],
      "metadata": {
        "colab": {
          "base_uri": "https://localhost:8080/"
        },
        "id": "HlbTRhbtVZHs",
        "outputId": "ac2efc76-5f36-439f-a446-c99160c30467"
      },
      "execution_count": 40,
      "outputs": [
        {
          "output_type": "execute_result",
          "data": {
            "text/plain": [
              "2"
            ]
          },
          "metadata": {},
          "execution_count": 40
        }
      ]
    },
    {
      "cell_type": "code",
      "source": [
        "MATRIX.shape"
      ],
      "metadata": {
        "colab": {
          "base_uri": "https://localhost:8080/"
        },
        "id": "y8ju64uxVc61",
        "outputId": "9ff76a9a-e2cf-4d8f-eaf6-b2598ee6a487"
      },
      "execution_count": 41,
      "outputs": [
        {
          "output_type": "execute_result",
          "data": {
            "text/plain": [
              "torch.Size([2, 2])"
            ]
          },
          "metadata": {},
          "execution_count": 41
        }
      ]
    },
    {
      "cell_type": "code",
      "source": [
        "MATRIX[0][0]"
      ],
      "metadata": {
        "colab": {
          "base_uri": "https://localhost:8080/"
        },
        "id": "SFIM48DTVscy",
        "outputId": "da41ce38-1919-4cbc-ede6-09f2eb126f24"
      },
      "execution_count": 42,
      "outputs": [
        {
          "output_type": "execute_result",
          "data": {
            "text/plain": [
              "tensor(7)"
            ]
          },
          "metadata": {},
          "execution_count": 42
        }
      ]
    },
    {
      "cell_type": "markdown",
      "source": [
        "###4. Tensor"
      ],
      "metadata": {
        "id": "-FAUA00qVpFV"
      }
    },
    {
      "cell_type": "code",
      "source": [
        "TENSOR = torch.tensor([[[1,2,3],[4,5,6],[7,8,9]]])\n",
        "TENSOR"
      ],
      "metadata": {
        "colab": {
          "base_uri": "https://localhost:8080/"
        },
        "id": "6pq-cIe9V_om",
        "outputId": "c4cd056a-d6fe-4300-c7e6-3bf105020d69"
      },
      "execution_count": 43,
      "outputs": [
        {
          "output_type": "execute_result",
          "data": {
            "text/plain": [
              "tensor([[[1, 2, 3],\n",
              "         [4, 5, 6],\n",
              "         [7, 8, 9]]])"
            ]
          },
          "metadata": {},
          "execution_count": 43
        }
      ]
    },
    {
      "cell_type": "code",
      "source": [
        "TENSOR.ndim"
      ],
      "metadata": {
        "colab": {
          "base_uri": "https://localhost:8080/"
        },
        "id": "0kYW5UB7WJ0l",
        "outputId": "c583bc8d-0caa-467e-d13a-1d9064ed22c6"
      },
      "execution_count": 44,
      "outputs": [
        {
          "output_type": "execute_result",
          "data": {
            "text/plain": [
              "3"
            ]
          },
          "metadata": {},
          "execution_count": 44
        }
      ]
    },
    {
      "cell_type": "code",
      "source": [
        "TENSOR.shape"
      ],
      "metadata": {
        "colab": {
          "base_uri": "https://localhost:8080/"
        },
        "id": "lYPBXyYfWKgi",
        "outputId": "e747aa09-9d75-4bb8-f604-b358d08c4b0a"
      },
      "execution_count": 45,
      "outputs": [
        {
          "output_type": "execute_result",
          "data": {
            "text/plain": [
              "torch.Size([1, 3, 3])"
            ]
          },
          "metadata": {},
          "execution_count": 45
        }
      ]
    },
    {
      "cell_type": "code",
      "source": [
        "TENSOR[0]"
      ],
      "metadata": {
        "colab": {
          "base_uri": "https://localhost:8080/"
        },
        "id": "MIes3zWOWLNJ",
        "outputId": "f23b6fbe-af99-4597-b941-ff9a201da992"
      },
      "execution_count": 46,
      "outputs": [
        {
          "output_type": "execute_result",
          "data": {
            "text/plain": [
              "tensor([[1, 2, 3],\n",
              "        [4, 5, 6],\n",
              "        [7, 8, 9]])"
            ]
          },
          "metadata": {},
          "execution_count": 46
        }
      ]
    },
    {
      "cell_type": "code",
      "source": [],
      "metadata": {
        "id": "HGdaDMOLWQ2a"
      },
      "execution_count": 46,
      "outputs": []
    },
    {
      "cell_type": "markdown",
      "source": [
        "#Random Tensors\n",
        "why random tensors?\n",
        "random tensors are important because of the way many neural networks learn is that they start with tensors full of random numbers and then adjust those random numbers to better represent the data\n",
        "\n",
        "`\n",
        "Start with random numbers -> look at data -> update random numbers -> look at data -> update data\n",
        "`\n",
        "\n"
      ],
      "metadata": {
        "id": "rYuOdZyiXJ-i"
      }
    },
    {
      "cell_type": "code",
      "source": [
        "# create a random tensor:\n",
        "random_tensor = torch.rand(3,4)\n",
        "random_tensor"
      ],
      "metadata": {
        "colab": {
          "base_uri": "https://localhost:8080/"
        },
        "id": "WPU8b77KYOjc",
        "outputId": "286425cb-38e0-41b0-a3f8-091e75514d7e"
      },
      "execution_count": 47,
      "outputs": [
        {
          "output_type": "execute_result",
          "data": {
            "text/plain": [
              "tensor([[0.3518, 0.0852, 0.3445, 0.8224],\n",
              "        [0.9532, 0.1792, 0.6363, 0.1061],\n",
              "        [0.0648, 0.1671, 0.3527, 0.7184]])"
            ]
          },
          "metadata": {},
          "execution_count": 47
        }
      ]
    },
    {
      "cell_type": "code",
      "source": [
        "random_tensor.ndim"
      ],
      "metadata": {
        "colab": {
          "base_uri": "https://localhost:8080/"
        },
        "id": "S35bkBomYYZi",
        "outputId": "95f714f3-8cd2-494b-9338-39cc2bb7c0c3"
      },
      "execution_count": 48,
      "outputs": [
        {
          "output_type": "execute_result",
          "data": {
            "text/plain": [
              "2"
            ]
          },
          "metadata": {},
          "execution_count": 48
        }
      ]
    },
    {
      "cell_type": "code",
      "source": [
        "# Create a random tensor with the similar shape to an image tensor\n",
        "random_image_size_tensor = torch.rand(size=(3,224,224)) #color channel, height, width\n",
        "random_image_size_tensor"
      ],
      "metadata": {
        "colab": {
          "base_uri": "https://localhost:8080/"
        },
        "id": "SjjNnbI3YkxN",
        "outputId": "2f4a21c0-c13f-472e-91a0-253530f70564"
      },
      "execution_count": 50,
      "outputs": [
        {
          "output_type": "execute_result",
          "data": {
            "text/plain": [
              "tensor([[[0.2037, 0.4161, 0.9114,  ..., 0.5567, 0.7492, 0.2428],\n",
              "         [0.1824, 0.9058, 0.2290,  ..., 0.9229, 0.2268, 0.3102],\n",
              "         [0.9969, 0.8595, 0.0516,  ..., 0.9303, 0.8329, 0.4155],\n",
              "         ...,\n",
              "         [0.1143, 0.8022, 0.7989,  ..., 0.6897, 0.7393, 0.8245],\n",
              "         [0.6863, 0.3492, 0.4026,  ..., 0.2948, 0.4347, 0.3271],\n",
              "         [0.5930, 0.2860, 0.4125,  ..., 0.8749, 0.6824, 0.1320]],\n",
              "\n",
              "        [[0.7478, 0.9065, 0.9118,  ..., 0.1382, 0.4285, 0.7737],\n",
              "         [0.4433, 0.9202, 0.1294,  ..., 0.5687, 0.1591, 0.8005],\n",
              "         [0.8386, 0.6142, 0.3326,  ..., 0.2529, 0.0339, 0.5942],\n",
              "         ...,\n",
              "         [0.2154, 0.2946, 0.3357,  ..., 0.1222, 0.5931, 0.1757],\n",
              "         [0.0332, 0.3316, 0.0440,  ..., 0.9793, 0.6776, 0.4330],\n",
              "         [0.6587, 0.2958, 0.4151,  ..., 0.8400, 0.9817, 0.1022]],\n",
              "\n",
              "        [[0.8696, 0.7363, 0.3324,  ..., 0.8545, 0.2321, 0.0043],\n",
              "         [0.4893, 0.0686, 0.4233,  ..., 0.0531, 0.7075, 0.2151],\n",
              "         [0.9009, 0.1459, 0.9308,  ..., 0.0342, 0.1015, 0.1056],\n",
              "         ...,\n",
              "         [0.7670, 0.6871, 0.8229,  ..., 0.9757, 0.3268, 0.3599],\n",
              "         [0.7711, 0.4396, 0.8314,  ..., 0.9828, 0.1498, 0.0334],\n",
              "         [0.3010, 0.0497, 0.7010,  ..., 0.4739, 0.1720, 0.8681]]])"
            ]
          },
          "metadata": {},
          "execution_count": 50
        }
      ]
    },
    {
      "cell_type": "code",
      "source": [
        "random_image_size_tensor.ndim"
      ],
      "metadata": {
        "colab": {
          "base_uri": "https://localhost:8080/"
        },
        "id": "s6dPvvrZY5bC",
        "outputId": "f43f73d9-5d00-4abc-f442-46ed76205f13"
      },
      "execution_count": 51,
      "outputs": [
        {
          "output_type": "execute_result",
          "data": {
            "text/plain": [
              "3"
            ]
          },
          "metadata": {},
          "execution_count": 51
        }
      ]
    },
    {
      "cell_type": "code",
      "source": [
        "random_image_size_tensor.shape"
      ],
      "metadata": {
        "colab": {
          "base_uri": "https://localhost:8080/"
        },
        "id": "UjxF_odQZ6l3",
        "outputId": "b3821bfe-128f-4eb3-809a-de20befaa4ed"
      },
      "execution_count": 53,
      "outputs": [
        {
          "output_type": "execute_result",
          "data": {
            "text/plain": [
              "torch.Size([3, 224, 224])"
            ]
          },
          "metadata": {},
          "execution_count": 53
        }
      ]
    },
    {
      "cell_type": "markdown",
      "source": [
        "#Zeros and ones"
      ],
      "metadata": {
        "id": "hdKEZtwxaUTP"
      }
    },
    {
      "cell_type": "code",
      "source": [
        "# Creating a tensor of all zeros\n",
        "zero = torch.zeros(3,4)\n",
        "zero"
      ],
      "metadata": {
        "colab": {
          "base_uri": "https://localhost:8080/"
        },
        "id": "ibi1wnHpaZrk",
        "outputId": "aae10bad-8ecf-4930-ab49-a81575698acd"
      },
      "execution_count": 56,
      "outputs": [
        {
          "output_type": "execute_result",
          "data": {
            "text/plain": [
              "tensor([[0., 0., 0., 0.],\n",
              "        [0., 0., 0., 0.],\n",
              "        [0., 0., 0., 0.]])"
            ]
          },
          "metadata": {},
          "execution_count": 56
        }
      ]
    },
    {
      "cell_type": "code",
      "source": [
        "zero * random_tensor"
      ],
      "metadata": {
        "colab": {
          "base_uri": "https://localhost:8080/"
        },
        "id": "m1rltWOMaoiD",
        "outputId": "5ee8a0ec-cf3c-45b1-ff1a-7e1ab9d274f1"
      },
      "execution_count": 58,
      "outputs": [
        {
          "output_type": "execute_result",
          "data": {
            "text/plain": [
              "tensor([[0., 0., 0., 0.],\n",
              "        [0., 0., 0., 0.],\n",
              "        [0., 0., 0., 0.]])"
            ]
          },
          "metadata": {},
          "execution_count": 58
        }
      ]
    },
    {
      "cell_type": "code",
      "source": [
        "# Creating a tensor of all ones\n",
        "ones = torch.ones(3,4)\n",
        "ones"
      ],
      "metadata": {
        "colab": {
          "base_uri": "https://localhost:8080/"
        },
        "id": "nU6rGOo2azJE",
        "outputId": "a0f30366-06ec-4dba-aa86-60476513005c"
      },
      "execution_count": 59,
      "outputs": [
        {
          "output_type": "execute_result",
          "data": {
            "text/plain": [
              "tensor([[1., 1., 1., 1.],\n",
              "        [1., 1., 1., 1.],\n",
              "        [1., 1., 1., 1.]])"
            ]
          },
          "metadata": {},
          "execution_count": 59
        }
      ]
    },
    {
      "cell_type": "code",
      "source": [
        "ones.dtype #the default datatype of tensors is float32"
      ],
      "metadata": {
        "colab": {
          "base_uri": "https://localhost:8080/"
        },
        "id": "SQ3-B5JOa5ms",
        "outputId": "bf9d8b45-53a9-475a-99b1-1873a9d0a704"
      },
      "execution_count": 60,
      "outputs": [
        {
          "output_type": "execute_result",
          "data": {
            "text/plain": [
              "torch.float32"
            ]
          },
          "metadata": {},
          "execution_count": 60
        }
      ]
    },
    {
      "cell_type": "markdown",
      "source": [
        "#Creating a range of tensors and tensors-like"
      ],
      "metadata": {
        "id": "mF5o7Tzna8Uq"
      }
    },
    {
      "cell_type": "markdown",
      "source": [
        "###Range of tensors"
      ],
      "metadata": {
        "id": "dcPyju69cFtF"
      }
    },
    {
      "cell_type": "code",
      "source": [
        "torch.arange(0,10)\n",
        "one_to_ten = torch.arange(1,11)\n",
        "one_to_ten"
      ],
      "metadata": {
        "colab": {
          "base_uri": "https://localhost:8080/"
        },
        "id": "rNOWgSIJbMzK",
        "outputId": "ea5f8dae-5c6e-4f2a-8c8f-52cfafe31994"
      },
      "execution_count": 63,
      "outputs": [
        {
          "output_type": "execute_result",
          "data": {
            "text/plain": [
              "tensor([ 1,  2,  3,  4,  5,  6,  7,  8,  9, 10])"
            ]
          },
          "metadata": {},
          "execution_count": 63
        }
      ]
    },
    {
      "cell_type": "code",
      "source": [
        "one_to_thousand = torch.arange(start = 0, end = 1000, step= 100)\n",
        "one_to_thousand"
      ],
      "metadata": {
        "colab": {
          "base_uri": "https://localhost:8080/"
        },
        "id": "vI_AzH9-bbZb",
        "outputId": "ef18409e-92f7-4c32-8263-61609a203284"
      },
      "execution_count": 65,
      "outputs": [
        {
          "output_type": "execute_result",
          "data": {
            "text/plain": [
              "tensor([  0, 100, 200, 300, 400, 500, 600, 700, 800, 900])"
            ]
          },
          "metadata": {},
          "execution_count": 65
        }
      ]
    },
    {
      "cell_type": "markdown",
      "source": [
        "###Range of tensor likes"
      ],
      "metadata": {
        "id": "pOkWUHDncLt4"
      }
    },
    {
      "cell_type": "code",
      "source": [
        "#Creating tensors like: tensor likes are tensors that are similar to the shape of another tensor but have different values\n",
        "tensor_like_zeroes = torch.zeros_like(input = one_to_ten)\n",
        "tensor_like_zeroes"
      ],
      "metadata": {
        "colab": {
          "base_uri": "https://localhost:8080/"
        },
        "id": "kx7mt1QObnDc",
        "outputId": "be69153c-caa2-46d0-82c3-d58a92819dce"
      },
      "execution_count": 68,
      "outputs": [
        {
          "output_type": "execute_result",
          "data": {
            "text/plain": [
              "tensor([0, 0, 0, 0, 0, 0, 0, 0, 0, 0])"
            ]
          },
          "metadata": {},
          "execution_count": 68
        }
      ]
    },
    {
      "cell_type": "code",
      "source": [
        "tensor_like_ones = torch.ones_like(input=one_to_ten)\n",
        "tensor_like_ones"
      ],
      "metadata": {
        "colab": {
          "base_uri": "https://localhost:8080/"
        },
        "id": "Jm6oUGtBccdO",
        "outputId": "5034c876-c055-4ce6-c9c7-1049275068ad"
      },
      "execution_count": 70,
      "outputs": [
        {
          "output_type": "execute_result",
          "data": {
            "text/plain": [
              "tensor([1, 1, 1, 1, 1, 1, 1, 1, 1, 1])"
            ]
          },
          "metadata": {},
          "execution_count": 70
        }
      ]
    },
    {
      "cell_type": "markdown",
      "source": [
        "#Tensor Datatypes\n",
        "\n",
        "**Note** : Tensor datatypes is one of the 3 biggest errors that you'll run into when working with deep learning\n",
        "\n",
        "\n",
        "1.   Tensors not in right datatype.\n",
        "2.   Tensors not in right shape.\n",
        "3.   Tensors not in right device\n",
        "\n"
      ],
      "metadata": {
        "id": "35K3kDwQblSN"
      }
    },
    {
      "cell_type": "code",
      "source": [
        "#float 32 tensor\n",
        "float_32_tensor = torch.tensor([3.0,6.0,9.0],\n",
        "                               dtype=None, # Datatype of the tensor being created (usually float32 or float16)\n",
        "                               device = \"cpu\", # where the tensor is being executed (cpu for cpu and cuda for gpu)\n",
        "                               requires_grad=False # whether you want pytorch to keep track of the gradients or not\n",
        "                               )\n",
        "float_32_tensor.dtype"
      ],
      "metadata": {
        "colab": {
          "base_uri": "https://localhost:8080/"
        },
        "id": "ObVaQ9Kccuh0",
        "outputId": "227dd96f-a810-4cc0-842a-c7aacc68bc4f"
      },
      "execution_count": 74,
      "outputs": [
        {
          "output_type": "execute_result",
          "data": {
            "text/plain": [
              "torch.float32"
            ]
          },
          "metadata": {},
          "execution_count": 74
        }
      ]
    },
    {
      "cell_type": "code",
      "source": [
        "float_16_tensor = torch.tensor([1,2,3],dtype=torch.float16)\n",
        "float_16_tensor"
      ],
      "metadata": {
        "colab": {
          "base_uri": "https://localhost:8080/"
        },
        "id": "igjIvHdObUQy",
        "outputId": "a7087dc2-d097-4c7b-e729-80e873476e20"
      },
      "execution_count": 75,
      "outputs": [
        {
          "output_type": "execute_result",
          "data": {
            "text/plain": [
              "tensor([1., 2., 3.], dtype=torch.float16)"
            ]
          },
          "metadata": {},
          "execution_count": 75
        }
      ]
    },
    {
      "cell_type": "markdown",
      "source": [
        "#Getting Information from tensors\n",
        "**Note** : Tensor datatypes is one of the 3 biggest errors that you'll run into when working with deep learning\n",
        "\n",
        "\n",
        "1.   Tensors not in right datatype (use tensor.dtype)\n",
        "2.   Tensors not in right shape. (use tensor.shape)\n",
        "3.   Tensors not in right device (use tensor.device)\n"
      ],
      "metadata": {
        "id": "pYvFVY5ve-VW"
      }
    },
    {
      "cell_type": "code",
      "source": [
        "# creating a tensor and displaying its information:\n",
        "random_tensor = torch.rand(3,4)\n",
        "print(random_tensor)\n",
        "print(\"datatype of tensor \" + str(random_tensor.dtype))\n",
        "print(\"shape of tensor \" + str(random_tensor.shape))\n",
        "print(\"device of tensor \" + str(random_tensor.device))"
      ],
      "metadata": {
        "colab": {
          "base_uri": "https://localhost:8080/"
        },
        "id": "PUeA7YBVh3lo",
        "outputId": "daee52da-5f9a-4c09-a4f6-bd6b28af607a"
      },
      "execution_count": 79,
      "outputs": [
        {
          "output_type": "stream",
          "name": "stdout",
          "text": [
            "tensor([[0.4046, 0.6939, 0.5799, 0.6226],\n",
            "        [0.4206, 0.7148, 0.1799, 0.2845],\n",
            "        [0.4457, 0.3918, 0.5456, 0.9775]])\n",
            "datatype of tensor torch.float32\n",
            "shape of tensor torch.Size([3, 4])\n",
            "device of tensor cpu\n"
          ]
        }
      ]
    },
    {
      "cell_type": "markdown",
      "source": [
        "#Manipulating Tensors (tensor operations)\n",
        "tensor operations include\n",
        "1. Addition\n",
        "2. Subtraction\n",
        "3. Multiplication (element wise)\n",
        "4. Division\n",
        "5. Matrix multiplication"
      ],
      "metadata": {
        "id": "mJIF_kmOiY_t"
      }
    },
    {
      "cell_type": "code",
      "source": [
        "# create a tensor\n",
        "tensor = torch.tensor([1,2,3])\n",
        "tensor"
      ],
      "metadata": {
        "colab": {
          "base_uri": "https://localhost:8080/"
        },
        "id": "XDeQYfDIiuxm",
        "outputId": "c3274caf-7faf-461e-cc53-b6d425f906f2"
      },
      "execution_count": 84,
      "outputs": [
        {
          "output_type": "execute_result",
          "data": {
            "text/plain": [
              "tensor([1, 2, 3])"
            ]
          },
          "metadata": {},
          "execution_count": 84
        }
      ]
    },
    {
      "cell_type": "code",
      "source": [
        "tensor + 10"
      ],
      "metadata": {
        "colab": {
          "base_uri": "https://localhost:8080/"
        },
        "id": "e3EpXG32iwc0",
        "outputId": "63ab9295-0158-4a9d-b380-710ac5eb9165"
      },
      "execution_count": 85,
      "outputs": [
        {
          "output_type": "execute_result",
          "data": {
            "text/plain": [
              "tensor([11, 12, 13])"
            ]
          },
          "metadata": {},
          "execution_count": 85
        }
      ]
    },
    {
      "cell_type": "code",
      "source": [
        "tensor * 10"
      ],
      "metadata": {
        "colab": {
          "base_uri": "https://localhost:8080/"
        },
        "id": "Rn5OVPhDi4ET",
        "outputId": "c0efa8fd-c0cb-440d-9a87-61559710e9ea"
      },
      "execution_count": 86,
      "outputs": [
        {
          "output_type": "execute_result",
          "data": {
            "text/plain": [
              "tensor([10, 20, 30])"
            ]
          },
          "metadata": {},
          "execution_count": 86
        }
      ]
    },
    {
      "cell_type": "code",
      "source": [
        "tensor - 10"
      ],
      "metadata": {
        "colab": {
          "base_uri": "https://localhost:8080/"
        },
        "id": "sNEVx4Dpi5S9",
        "outputId": "23a8c288-651c-4c35-f444-651614e731b1"
      },
      "execution_count": 87,
      "outputs": [
        {
          "output_type": "execute_result",
          "data": {
            "text/plain": [
              "tensor([-9, -8, -7])"
            ]
          },
          "metadata": {},
          "execution_count": 87
        }
      ]
    },
    {
      "cell_type": "code",
      "source": [
        "tensor / 2"
      ],
      "metadata": {
        "colab": {
          "base_uri": "https://localhost:8080/"
        },
        "id": "Yco2apSbjK0m",
        "outputId": "92527954-8144-4329-fe11-c01a5b4642a6"
      },
      "execution_count": 88,
      "outputs": [
        {
          "output_type": "execute_result",
          "data": {
            "text/plain": [
              "tensor([0.5000, 1.0000, 1.5000])"
            ]
          },
          "metadata": {},
          "execution_count": 88
        }
      ]
    },
    {
      "cell_type": "markdown",
      "source": [
        "### Matrix multiplcation\n",
        "There are two ways of performing multiplication in neural networking and deep learning\n",
        "1. Element-wise multiplication\n",
        "2. Matrix multiplication (dot product)\n",
        "\n",
        "There are two rules main that performing matrix multiplication needs to satisfy\n",
        "1. the **inner dimensions** must match:\n",
        "  * ` (3,2) @ (3,2) wont work`\n",
        "  * ` (2,3) @ (3,2) will work`\n",
        "  * ` (3,2) @ (2,3) will work`\n",
        "2. The resulting matrix has the shape of the **outer dimensions**:\n",
        "  * ` (2,3) @ (3,2) -> (2,2)`\n",
        "  * ` (3,2) @ (2,3) -> (3,3)`"
      ],
      "metadata": {
        "id": "azU_UmUejWEG"
      }
    },
    {
      "cell_type": "code",
      "source": [
        "#element-wise multiplication for tensors\n",
        "tensor * tensor"
      ],
      "metadata": {
        "colab": {
          "base_uri": "https://localhost:8080/"
        },
        "id": "x6PAA2lQk_Mc",
        "outputId": "fa35681a-dece-4d6e-e417-db0372ae615c"
      },
      "execution_count": 90,
      "outputs": [
        {
          "output_type": "execute_result",
          "data": {
            "text/plain": [
              "tensor([1, 4, 9])"
            ]
          },
          "metadata": {},
          "execution_count": 90
        }
      ]
    },
    {
      "cell_type": "code",
      "source": [
        "# matrix multiplication for tensors using pyTorch\n",
        "torch.matmul(tensor,tensor)"
      ],
      "metadata": {
        "colab": {
          "base_uri": "https://localhost:8080/"
        },
        "id": "ttVKoG0Fjm4n",
        "outputId": "529d1577-a828-49c2-84a8-33966af23b93"
      },
      "execution_count": 89,
      "outputs": [
        {
          "output_type": "execute_result",
          "data": {
            "text/plain": [
              "tensor(14)"
            ]
          },
          "metadata": {},
          "execution_count": 89
        }
      ]
    },
    {
      "cell_type": "markdown",
      "source": [
        "#One of the most common errors in deep learning: shape errors"
      ],
      "metadata": {
        "id": "nKMmbzRZlHv1"
      }
    },
    {
      "cell_type": "code",
      "source": [
        "tensor_A = torch.tensor([[1,2],[3,4],[5,6]])\n",
        "tensor_B = torch.tensor([[7,10],[8,11],[9,12]])\n",
        "torch.matmul(tensor_A,tensor_B)"
      ],
      "metadata": {
        "colab": {
          "base_uri": "https://localhost:8080/",
          "height": 196
        },
        "id": "oMb-t_ZYnT0r",
        "outputId": "70ce134f-21ac-474e-e3c1-c2fb2ea3005b"
      },
      "execution_count": 92,
      "outputs": [
        {
          "output_type": "error",
          "ename": "RuntimeError",
          "evalue": "mat1 and mat2 shapes cannot be multiplied (3x2 and 3x2)",
          "traceback": [
            "\u001b[0;31m---------------------------------------------------------------------------\u001b[0m",
            "\u001b[0;31mRuntimeError\u001b[0m                              Traceback (most recent call last)",
            "\u001b[0;32m<ipython-input-92-b5785c4a3a8a>\u001b[0m in \u001b[0;36m<cell line: 3>\u001b[0;34m()\u001b[0m\n\u001b[1;32m      1\u001b[0m \u001b[0mtensor_A\u001b[0m \u001b[0;34m=\u001b[0m \u001b[0mtorch\u001b[0m\u001b[0;34m.\u001b[0m\u001b[0mtensor\u001b[0m\u001b[0;34m(\u001b[0m\u001b[0;34m[\u001b[0m\u001b[0;34m[\u001b[0m\u001b[0;36m1\u001b[0m\u001b[0;34m,\u001b[0m\u001b[0;36m2\u001b[0m\u001b[0;34m]\u001b[0m\u001b[0;34m,\u001b[0m\u001b[0;34m[\u001b[0m\u001b[0;36m3\u001b[0m\u001b[0;34m,\u001b[0m\u001b[0;36m4\u001b[0m\u001b[0;34m]\u001b[0m\u001b[0;34m,\u001b[0m\u001b[0;34m[\u001b[0m\u001b[0;36m5\u001b[0m\u001b[0;34m,\u001b[0m\u001b[0;36m6\u001b[0m\u001b[0;34m]\u001b[0m\u001b[0;34m]\u001b[0m\u001b[0;34m)\u001b[0m\u001b[0;34m\u001b[0m\u001b[0;34m\u001b[0m\u001b[0m\n\u001b[1;32m      2\u001b[0m \u001b[0mtensor_B\u001b[0m \u001b[0;34m=\u001b[0m \u001b[0mtorch\u001b[0m\u001b[0;34m.\u001b[0m\u001b[0mtensor\u001b[0m\u001b[0;34m(\u001b[0m\u001b[0;34m[\u001b[0m\u001b[0;34m[\u001b[0m\u001b[0;36m7\u001b[0m\u001b[0;34m,\u001b[0m\u001b[0;36m10\u001b[0m\u001b[0;34m]\u001b[0m\u001b[0;34m,\u001b[0m\u001b[0;34m[\u001b[0m\u001b[0;36m8\u001b[0m\u001b[0;34m,\u001b[0m\u001b[0;36m11\u001b[0m\u001b[0;34m]\u001b[0m\u001b[0;34m,\u001b[0m\u001b[0;34m[\u001b[0m\u001b[0;36m9\u001b[0m\u001b[0;34m,\u001b[0m\u001b[0;36m12\u001b[0m\u001b[0;34m]\u001b[0m\u001b[0;34m]\u001b[0m\u001b[0;34m)\u001b[0m\u001b[0;34m\u001b[0m\u001b[0;34m\u001b[0m\u001b[0m\n\u001b[0;32m----> 3\u001b[0;31m \u001b[0mtorch\u001b[0m\u001b[0;34m.\u001b[0m\u001b[0mmatmul\u001b[0m\u001b[0;34m(\u001b[0m\u001b[0mtensor_A\u001b[0m\u001b[0;34m,\u001b[0m\u001b[0mtensor_B\u001b[0m\u001b[0;34m)\u001b[0m\u001b[0;34m\u001b[0m\u001b[0;34m\u001b[0m\u001b[0m\n\u001b[0m",
            "\u001b[0;31mRuntimeError\u001b[0m: mat1 and mat2 shapes cannot be multiplied (3x2 and 3x2)"
          ]
        }
      ]
    },
    {
      "cell_type": "markdown",
      "source": [
        "To fix our tensor shape issues we can manipulate the shape of one of the tensors by using a **transpose**\n",
        "\n",
        "A **transpose** switches the axes or dimensions of a given tensor"
      ],
      "metadata": {
        "id": "skc9Nm6tnutO"
      }
    },
    {
      "cell_type": "code",
      "source": [
        "tensor_B, tensor_B.shape"
      ],
      "metadata": {
        "colab": {
          "base_uri": "https://localhost:8080/"
        },
        "id": "nFOCPITZoKX_",
        "outputId": "7e02f580-9888-413f-bb7d-f20bbccaa6d0"
      },
      "execution_count": 97,
      "outputs": [
        {
          "output_type": "execute_result",
          "data": {
            "text/plain": [
              "(tensor([[ 7, 10],\n",
              "         [ 8, 11],\n",
              "         [ 9, 12]]),\n",
              " torch.Size([3, 2]))"
            ]
          },
          "metadata": {},
          "execution_count": 97
        }
      ]
    },
    {
      "cell_type": "code",
      "source": [
        "tensor_B.T, tensor_B.T.shape"
      ],
      "metadata": {
        "colab": {
          "base_uri": "https://localhost:8080/"
        },
        "id": "DP-FQ4nAoUZX",
        "outputId": "833566cc-5523-491e-c6b1-608287275208"
      },
      "execution_count": 98,
      "outputs": [
        {
          "output_type": "execute_result",
          "data": {
            "text/plain": [
              "(tensor([[ 7,  8,  9],\n",
              "         [10, 11, 12]]),\n",
              " torch.Size([2, 3]))"
            ]
          },
          "metadata": {},
          "execution_count": 98
        }
      ]
    },
    {
      "cell_type": "code",
      "source": [
        "torch.matmul(tensor_A,tensor_B.T),torch.matmul(tensor_A,tensor_B.T).shape"
      ],
      "metadata": {
        "colab": {
          "base_uri": "https://localhost:8080/"
        },
        "id": "EPpfYFtFoX_8",
        "outputId": "8bd6f4fd-2417-417a-ea64-f3b324db7e45"
      },
      "execution_count": 100,
      "outputs": [
        {
          "output_type": "execute_result",
          "data": {
            "text/plain": [
              "(tensor([[ 27,  30,  33],\n",
              "         [ 61,  68,  75],\n",
              "         [ 95, 106, 117]]),\n",
              " torch.Size([3, 3]))"
            ]
          },
          "metadata": {},
          "execution_count": 100
        }
      ]
    },
    {
      "cell_type": "markdown",
      "source": [
        "#Finding the min,max,mean,sum, etc (tensor aggregation)"
      ],
      "metadata": {
        "id": "2ktathfHop9D"
      }
    },
    {
      "cell_type": "code",
      "source": [
        "#create a tensor\n",
        "x = torch.arange(0,100,10)\n",
        "x,x.dtype"
      ],
      "metadata": {
        "colab": {
          "base_uri": "https://localhost:8080/"
        },
        "id": "8Rz3kEmCrQSH",
        "outputId": "37a79a1d-35f1-49e7-d686-5e85c62d5ea8"
      },
      "execution_count": 103,
      "outputs": [
        {
          "output_type": "execute_result",
          "data": {
            "text/plain": [
              "(tensor([ 0, 10, 20, 30, 40, 50, 60, 70, 80, 90]), torch.int64)"
            ]
          },
          "metadata": {},
          "execution_count": 103
        }
      ]
    },
    {
      "cell_type": "code",
      "source": [
        "x.min()"
      ],
      "metadata": {
        "colab": {
          "base_uri": "https://localhost:8080/"
        },
        "id": "iCeO-TgurVwb",
        "outputId": "77695e6c-f015-4ff8-bafa-4a95a413ffcd"
      },
      "execution_count": 104,
      "outputs": [
        {
          "output_type": "execute_result",
          "data": {
            "text/plain": [
              "tensor(0)"
            ]
          },
          "metadata": {},
          "execution_count": 104
        }
      ]
    },
    {
      "cell_type": "code",
      "source": [
        "x.max()"
      ],
      "metadata": {
        "colab": {
          "base_uri": "https://localhost:8080/"
        },
        "id": "Jyrm6zOQrbdc",
        "outputId": "87949c9c-2869-47e3-f1d2-095a6862098b"
      },
      "execution_count": 105,
      "outputs": [
        {
          "output_type": "execute_result",
          "data": {
            "text/plain": [
              "tensor(90)"
            ]
          },
          "metadata": {},
          "execution_count": 105
        }
      ]
    },
    {
      "cell_type": "code",
      "source": [
        "torch.mean(x.type(torch.float32)), x.type(torch.float32).mean()"
      ],
      "metadata": {
        "colab": {
          "base_uri": "https://localhost:8080/"
        },
        "id": "vFvmxr1OrcdH",
        "outputId": "3405c97f-93b1-4973-e0e2-7cc1bc5d7b03"
      },
      "execution_count": 108,
      "outputs": [
        {
          "output_type": "execute_result",
          "data": {
            "text/plain": [
              "(tensor(45.), tensor(45.))"
            ]
          },
          "metadata": {},
          "execution_count": 108
        }
      ]
    },
    {
      "cell_type": "code",
      "source": [
        "torch.sum(x), x.sum()"
      ],
      "metadata": {
        "colab": {
          "base_uri": "https://localhost:8080/"
        },
        "id": "Twt8InvKrehW",
        "outputId": "d83295dd-7d73-4661-b587-6139f5c278dd"
      },
      "execution_count": 109,
      "outputs": [
        {
          "output_type": "execute_result",
          "data": {
            "text/plain": [
              "(tensor(450), tensor(450))"
            ]
          },
          "metadata": {},
          "execution_count": 109
        }
      ]
    },
    {
      "cell_type": "markdown",
      "source": [
        "#Finding the positional min and max (index of min and max)\n",
        "we use argmin() and argmax() for this"
      ],
      "metadata": {
        "id": "QauiWKBiryq8"
      }
    },
    {
      "cell_type": "code",
      "source": [
        "torch.argmin(x), x.argmin()"
      ],
      "metadata": {
        "colab": {
          "base_uri": "https://localhost:8080/"
        },
        "id": "gXXVRr_cr-r_",
        "outputId": "78f1fbc7-92e8-49c2-a0ab-372a836871c8"
      },
      "execution_count": 113,
      "outputs": [
        {
          "output_type": "execute_result",
          "data": {
            "text/plain": [
              "(tensor(0), tensor(0))"
            ]
          },
          "metadata": {},
          "execution_count": 113
        }
      ]
    },
    {
      "cell_type": "code",
      "source": [
        "x.argmax(), torch.argmax(x)"
      ],
      "metadata": {
        "colab": {
          "base_uri": "https://localhost:8080/"
        },
        "id": "kZrS7LT1sJMs",
        "outputId": "7b01b1a8-8ca5-4d08-a02b-972913231626"
      },
      "execution_count": 114,
      "outputs": [
        {
          "output_type": "execute_result",
          "data": {
            "text/plain": [
              "(tensor(9), tensor(9))"
            ]
          },
          "metadata": {},
          "execution_count": 114
        }
      ]
    },
    {
      "cell_type": "markdown",
      "source": [
        "#Reshaping, stacking, squeezing and unsqueezin tensors\n",
        "* Reshaping - reshapes an input tensor to a defined shape\n",
        "* View - return a view of an input tensor of a cetrain shape but keep the same memory as the original tensor\n",
        "* stacking - combine multiple tensors on top of each other (vstack) or side by side (hstack)\n",
        "* Squeeze - removes all `1` dimensons from a tensor\n",
        "* Unsqueeze - add a `1` dimension to a tensor\n",
        "* Permute - return a view of the input with the dimensions permuted (swapped) in a certain way"
      ],
      "metadata": {
        "id": "9tklUtt1sML2"
      }
    },
    {
      "cell_type": "code",
      "source": [
        "# creating a tensor\n",
        "y = torch.arange(1.,10.)\n",
        "y, y.shape"
      ],
      "metadata": {
        "colab": {
          "base_uri": "https://localhost:8080/"
        },
        "id": "z89SJVvyz25T",
        "outputId": "635f1ab4-f28e-4123-a0bf-52028137b783"
      },
      "execution_count": 116,
      "outputs": [
        {
          "output_type": "execute_result",
          "data": {
            "text/plain": [
              "(tensor([1., 2., 3., 4., 5., 6., 7., 8., 9.]), torch.Size([9]))"
            ]
          },
          "metadata": {},
          "execution_count": 116
        }
      ]
    },
    {
      "cell_type": "code",
      "source": [
        "#the new shape must be compatible with the number of elements in original tensor\n",
        "y_reshaped = y.reshape(1,9)\n",
        "y_reshaped , y_reshaped.shape"
      ],
      "metadata": {
        "colab": {
          "base_uri": "https://localhost:8080/"
        },
        "id": "IL0CA8JS1F-v",
        "outputId": "e2da187c-8f29-4e0a-f5dd-a912027f4ba1"
      },
      "execution_count": 119,
      "outputs": [
        {
          "output_type": "execute_result",
          "data": {
            "text/plain": [
              "(tensor([[1., 2., 3., 4., 5., 6., 7., 8., 9.]]), torch.Size([1, 9]))"
            ]
          },
          "metadata": {},
          "execution_count": 119
        }
      ]
    },
    {
      "cell_type": "code",
      "source": [
        "# change the view\n",
        "z =y.view(1,9)\n",
        "z, z.shape"
      ],
      "metadata": {
        "colab": {
          "base_uri": "https://localhost:8080/"
        },
        "id": "cjaXSMA81Jsj",
        "outputId": "5fd116e8-fce4-4463-c149-9c53bde375f6"
      },
      "execution_count": 121,
      "outputs": [
        {
          "output_type": "execute_result",
          "data": {
            "text/plain": [
              "(tensor([[1., 2., 3., 4., 5., 6., 7., 8., 9.]]), torch.Size([1, 9]))"
            ]
          },
          "metadata": {},
          "execution_count": 121
        }
      ]
    },
    {
      "cell_type": "code",
      "source": [
        "# Changing z changes y because z is like a pointer to y\n",
        "z[:,0] = 5\n",
        "z, y"
      ],
      "metadata": {
        "colab": {
          "base_uri": "https://localhost:8080/"
        },
        "id": "tNtqNUfV1qhH",
        "outputId": "2e1c3e6a-c3b8-4b53-be8f-fde60dac440b"
      },
      "execution_count": 124,
      "outputs": [
        {
          "output_type": "execute_result",
          "data": {
            "text/plain": [
              "(tensor([[5., 2., 3., 4., 5., 6., 7., 8., 9.]]),\n",
              " tensor([5., 2., 3., 4., 5., 6., 7., 8., 9.]))"
            ]
          },
          "metadata": {},
          "execution_count": 124
        }
      ]
    },
    {
      "cell_type": "code",
      "source": [
        "#stack tensors on top of each other\n",
        "y_stacked = torch.stack([y,y,y,y], dim=1)\n",
        "y_stacked"
      ],
      "metadata": {
        "colab": {
          "base_uri": "https://localhost:8080/"
        },
        "id": "EWDQe2so1w39",
        "outputId": "5eafed1b-7613-413e-b6ce-ea4a2ccd2654"
      },
      "execution_count": 129,
      "outputs": [
        {
          "output_type": "execute_result",
          "data": {
            "text/plain": [
              "tensor([[5., 5., 5., 5.],\n",
              "        [2., 2., 2., 2.],\n",
              "        [3., 3., 3., 3.],\n",
              "        [4., 4., 4., 4.],\n",
              "        [5., 5., 5., 5.],\n",
              "        [6., 6., 6., 6.],\n",
              "        [7., 7., 7., 7.],\n",
              "        [8., 8., 8., 8.],\n",
              "        [9., 9., 9., 9.]])"
            ]
          },
          "metadata": {},
          "execution_count": 129
        }
      ]
    },
    {
      "cell_type": "code",
      "source": [
        "#squeeze removes a single dimension from a tensor\n",
        "y_squeezed = y.squeeze(0)\n",
        "y_squeezed, y_squeezed.shape"
      ],
      "metadata": {
        "colab": {
          "base_uri": "https://localhost:8080/"
        },
        "id": "lu2pwy8x2NQF",
        "outputId": "a0cd36d3-f642-4678-9eb1-cdcd9d336dcc"
      },
      "execution_count": 133,
      "outputs": [
        {
          "output_type": "execute_result",
          "data": {
            "text/plain": [
              "(tensor([5., 2., 3., 4., 5., 6., 7., 8., 9.]), torch.Size([9]))"
            ]
          },
          "metadata": {},
          "execution_count": 133
        }
      ]
    },
    {
      "cell_type": "code",
      "source": [
        "#unsqueeze adds a single dimension from tensor\n",
        "y_unsqueezed = y_squeezed.unsqueeze(0)\n",
        "y_unsqueezed, y_unsqueezed.shape"
      ],
      "metadata": {
        "colab": {
          "base_uri": "https://localhost:8080/"
        },
        "id": "744kMHh92uIj",
        "outputId": "47687531-bc28-494b-81c7-e8bb1985fde5"
      },
      "execution_count": 139,
      "outputs": [
        {
          "output_type": "execute_result",
          "data": {
            "text/plain": [
              "(tensor([[5., 2., 3., 4., 5., 6., 7., 8., 9.]]), torch.Size([1, 9]))"
            ]
          },
          "metadata": {},
          "execution_count": 139
        }
      ]
    },
    {
      "cell_type": "code",
      "source": [
        "#torch.permute - rearranges the dimensions of a target tensor in a specified order\n",
        "x_original = torch.rand(size=(3,224,224))\n",
        "x_permuted = x_original.permute(2,1,0)\n",
        "x_original.shape, x_permuted.shape"
      ],
      "metadata": {
        "colab": {
          "base_uri": "https://localhost:8080/"
        },
        "id": "JpF33FJS3fqf",
        "outputId": "c57a9c3a-d445-44cf-9c73-119689b1c5aa"
      },
      "execution_count": 143,
      "outputs": [
        {
          "output_type": "execute_result",
          "data": {
            "text/plain": [
              "(torch.Size([3, 224, 224]), torch.Size([224, 224, 3]))"
            ]
          },
          "metadata": {},
          "execution_count": 143
        }
      ]
    },
    {
      "cell_type": "markdown",
      "source": [
        "#PyTorch tensors and numpy\n",
        "Since NumPy is a popular Python numerical computing library, PyTorch has functionality to interact with it nicely.\n",
        "\n",
        "The two main methods you'll want to use for NumPy to PyTorch (and back again) are:\n",
        "* `torch.from_numpy(ndarray)` - NumPy array -> PyTorch tensor.\n",
        "* `torch.Tensor.numpy()` - PyTorch tensor -> NumPy array."
      ],
      "metadata": {
        "id": "pM_YUZrs4UcF"
      }
    },
    {
      "cell_type": "code",
      "source": [],
      "metadata": {
        "id": "ofn4K95l76Gi"
      },
      "execution_count": null,
      "outputs": []
    }
  ]
}